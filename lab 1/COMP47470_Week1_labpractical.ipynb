{
  "cells": [
    {
      "cell_type": "raw",
      "metadata": {
        "id": "YjfYuybAMHH3"
      },
      "source": [
        "# Week 1: Laboratory Practical on Shell Basics and Bash Scripting\n",
        "\n",
        "This practical covers basics on Bash shell and Scripting. The examples and exercises assume the operating sytem (OS) is Linux. We will not be any more specific and specify the Linux distribution. We assume you are using one of the following: CentOS, Debian, Fedora, openSUSE, Red Hat Enterprise, and Ubuntu.\n",
        "\n",
        "The *shell* is a program that reads and executes commands input by the user at the command-line interface (CLI). It is also known as command interpreter. On UNIX systems, the shell is a user process. The shells are not just for user interaction but also employed to execute batch scripts, which are text files containing shell commands.\n",
        "\n",
        "The most notable shells in the UNIX and Linux world are the Bourne Shell, C Shell, Korn Shell (a descendant of C Shell), and Bourne Again Shell (bash). This tutorial experiments with bash (the \"Bourne-again\" shell). It is the default login shell for most Linux distributions.\n",
        "\n",
        "You will be using Google Drive in the lab practicals. Therefore, you must first mount your Google Drive. To do this, run the first code cell below. You will be prompted for permission access. Once you have allowed permission, you should have access to the files stored on your drive and be able to see a new **drive** directory above **sample_data** in the lefthand menu."
      ]
    },
    {
      "cell_type": "code",
      "execution_count": null,
      "metadata": {
        "colab": {
          "base_uri": "https://localhost:8080/"
        },
        "id": "oD7iNU9lOIF5",
        "outputId": "dd0e6e30-6392-49b3-b0d5-59a810a3bd5c"
      },
      "outputs": [
        {
          "output_type": "stream",
          "name": "stdout",
          "text": [
            "Mounted at /content/drive\n"
          ]
        }
      ],
      "source": [
        "from google.colab import drive\n",
        "drive.mount('/content/drive')"
      ]
    },
    {
      "cell_type": "markdown",
      "metadata": {
        "id": "4KF9fnb_O-tm"
      },
      "source": [
        "There are two characters one can use before Bash commands in the Colab IPython environment. The character `!` is used for executing any standard shell command. The example below shows the use of `!`. The directories **drive** and **sample_data** will be listed."
      ]
    },
    {
      "cell_type": "code",
      "execution_count": null,
      "metadata": {
        "colab": {
          "base_uri": "https://localhost:8080/"
        },
        "id": "EdpWHY1ywASX",
        "outputId": "5fc5b4a3-e953-48c5-86de-2df1a422b10b"
      },
      "outputs": [
        {
          "output_type": "stream",
          "name": "stdout",
          "text": [
            "/content\n"
          ]
        }
      ],
      "source": [
        "!pwd"
      ]
    },
    {
      "cell_type": "code",
      "execution_count": null,
      "metadata": {
        "colab": {
          "base_uri": "https://localhost:8080/"
        },
        "id": "nWNcJPlFvPRX",
        "outputId": "2cb33e5e-649b-4b9e-94f3-1bfbc81b0ecd"
      },
      "outputs": [
        {
          "output_type": "stream",
          "name": "stdout",
          "text": [
            "drive  sample_data\n"
          ]
        }
      ],
      "source": [
        "!ls"
      ]
    },
    {
      "cell_type": "markdown",
      "metadata": {
        "id": "U6EoAhEKvdTx"
      },
      "source": [
        "Let us try a simple Bash command."
      ]
    },
    {
      "cell_type": "code",
      "execution_count": null,
      "metadata": {
        "colab": {
          "base_uri": "https://localhost:8080/"
        },
        "id": "TLXDaoNXOlW1",
        "outputId": "6bd8aecd-a530-4a7d-93fe-245e054b8a3a"
      },
      "outputs": [
        {
          "output_type": "stream",
          "name": "stdout",
          "text": [
            "Hello World!\n"
          ]
        }
      ],
      "source": [
        "!echo \"Hello World!\""
      ]
    },
    {
      "cell_type": "markdown",
      "metadata": {
        "id": "sxvg_ZxROexa"
      },
      "source": [
        "However, you cannot use **!cd** to navigate the filesystem. The command **!pwd** prints the current directory. You can see that the **!cd** did not take you into **sample_data** directory."
      ]
    },
    {
      "cell_type": "code",
      "execution_count": null,
      "metadata": {
        "id": "4k66BJMFOpYV"
      },
      "outputs": [],
      "source": [
        "!cd sample_data/"
      ]
    },
    {
      "cell_type": "code",
      "execution_count": null,
      "metadata": {
        "colab": {
          "base_uri": "https://localhost:8080/"
        },
        "id": "rzjg_Chwv1pg",
        "outputId": "aaaf522c-6997-4fff-b96d-f13a9e9f9ea9"
      },
      "outputs": [
        {
          "output_type": "stream",
          "name": "stdout",
          "text": [
            "/content\n"
          ]
        }
      ],
      "source": [
        "!pwd"
      ]
    },
    {
      "cell_type": "markdown",
      "metadata": {
        "id": "uxj_54Wfvtbt"
      },
      "source": [
        "The reason is that shell commands in the notebook are executed in a temporary subshell that does not maintain state from command to command. If you'd like to change the working directory in a more enduring way, you can use the **%cd** magic command."
      ]
    },
    {
      "cell_type": "code",
      "execution_count": null,
      "metadata": {
        "colab": {
          "base_uri": "https://localhost:8080/"
        },
        "id": "I_XvCtp1wbXR",
        "outputId": "b8b7744e-72b5-4069-c73a-48bdd286dfa4"
      },
      "outputs": [
        {
          "output_type": "stream",
          "name": "stdout",
          "text": [
            "/content/sample_data\n"
          ]
        }
      ],
      "source": [
        "%cd sample_data"
      ]
    },
    {
      "cell_type": "code",
      "execution_count": null,
      "metadata": {
        "colab": {
          "base_uri": "https://localhost:8080/"
        },
        "id": "zTITNrJwOz10",
        "outputId": "cd39b274-125d-44e1-b859-2d6177caf3f2"
      },
      "outputs": [
        {
          "output_type": "stream",
          "name": "stdout",
          "text": [
            "/content/sample_data\n"
          ]
        }
      ],
      "source": [
        "!pwd"
      ]
    },
    {
      "cell_type": "markdown",
      "metadata": {
        "id": "OBG3sSf9-WMe"
      },
      "source": [
        "The UNIX user command **ls** lists the contents of the current directory, **sample_data**."
      ]
    },
    {
      "cell_type": "code",
      "execution_count": null,
      "metadata": {
        "colab": {
          "base_uri": "https://localhost:8080/"
        },
        "id": "sU4J61umOxzO",
        "outputId": "ad3886dc-8718-49c8-f573-0990bd961376"
      },
      "outputs": [
        {
          "output_type": "stream",
          "name": "stdout",
          "text": [
            "anscombe.json\t\t      mnist_test.csv\n",
            "california_housing_test.csv   mnist_train_small.csv\n",
            "california_housing_train.csv  README.md\n"
          ]
        }
      ],
      "source": [
        "!ls"
      ]
    },
    {
      "cell_type": "markdown",
      "metadata": {
        "id": "RVFHQhz-PeKq"
      },
      "source": [
        "## 1. Using `man` to get help\n",
        "Nearly every user command in Linux will have a `man` (manual) page, so finding them is as simple as typing `man command` to bring up the manual entry for that specific command.\n",
        "\n",
        "For example, `man mv` will bring up the manual page for the `mv` (move) command. Note: when running this command in the terminal, you will need to use the arrow keys to move up and down the page. To get back to the command prompt, type `q`.\n",
        "\n",
        "`man intro` is a useful place to start. It displays the \"Introduction to User\" commands which is a well-written, fairly brief introduction to the Linux command line.\n",
        "\n",
        "**Note**: If you are getting a message telling you to run the `unminimize` command:\n",
        "```\n",
        "This system has been minimized by removing packages and content that are not required on a system that users do not log into.\n",
        "To restore this content, including manpages, you can run the 'unminimize'\n",
        "command. You will still need to ensure the 'man-db' package is installed.\n",
        "```\n",
        "\n",
        "then run the command `yes y | unminimize`. This command will automatically type `y` when the command asks you to agree.\n"
      ]
    },
    {
      "cell_type": "code",
      "execution_count": null,
      "metadata": {
        "id": "E8gXAdI6Ww18"
      },
      "outputs": [],
      "source": [
        "!yes y | unminimize\n",
        "!man intro"
      ]
    },
    {
      "cell_type": "markdown",
      "metadata": {
        "id": "hJ-cvy-1W7C8"
      },
      "source": [
        "Some software developers prefer `info` to `man` (for instance, GNU developers). So if you find a very widely used command or app that doesn't have a `man` page, it might be worth your while checking for an `info` page.\n",
        "\n",
        "Virtually all commands understand the `-h` (or `--help`) option which will produce a short usage description of the command and its options.\n",
        "\n",
        "`man` pages can be lengthy though so if you are looking for a specific option etc. it could be useful (when using the terminal) to look up some word using the syntax `/word` and then use the `n` key to move to the next occurence.\n",
        "\n",
        "If you aren’t sure which command or application you need to use, you can try searching the manual pages. Each manual page has a name and a short description.\n",
        "\n",
        "\n",
        "*   If you know part of the command name, use the following command: `whatis -r <string>`. For example try with the following: `whatis -r cpy`\n",
        "*   To search the names or descriptions for <string> enter: `apropos -r <string>`. For example, `apropos -r \"copy files\"` will list manual pages whose names or descriptions contain copy files."
      ]
    },
    {
      "cell_type": "code",
      "execution_count": null,
      "metadata": {
        "id": "6X92UHdXXC2D",
        "colab": {
          "base_uri": "https://localhost:8080/"
        },
        "outputId": "cbde53df-bc01-45f4-90fd-f8fa72e76aa4"
      },
      "outputs": [
        {
          "output_type": "stream",
          "name": "stdout",
          "text": [
            "cp (1posix)          - copy files\n",
            "gh-codespace-cp (1)  - Copy files between local and remote file systems\n",
            "git-checkout-index (1) - Copy files from the index to the working tree\n"
          ]
        }
      ],
      "source": [
        "!apropos -r \"copy files\""
      ]
    },
    {
      "cell_type": "markdown",
      "metadata": {
        "id": "zVNvav3XR6uv"
      },
      "source": [
        "## 2. File and Directory Commands\n",
        "\n",
        "The Linux hierarchy is typical of Unix systems (with some variations depending on the specific distributions). For the moment you just need to know that the file system is a tree that starts at the root (represented with the symbol /). Note that if you are familiar with DOS/Windows the path delimiter is the forward slash and not the backward slash... A path then looks like this in Linux: /var/log/auth.log. This leads to the file auth.log in the folder log in the folder var which is right after the root of the file system.\n",
        "\n",
        "*   The tilde `(~)` symbol stands for your home directory. If you are anthony, then the tilde `(~)` stands for `/home/anthony`. So `/home/anthony/myFile` and `~/myFile` point to the same file.\n",
        "*   `pwd`: The `pwd` command will allow you to know in which directory you’re located (`pwd` stands for ”print working directory”). Example: `pwd` in the Desktop directory will show ~/Desktop.\n",
        "*   `ls`: The `ls` (’list’) command will show you the files in your current directory. Used with certain options, you can see the size of files, when files were created, and permissions for files. Example: `ls ~` will show you the files that are in your home directory.\n",
        "\n",
        "*    `cd`: The `cd` command will allow you to change directories. When you open a terminal you will be in your home directory. To move around the file system you will use `cd`. Examples:\n",
        "      * To navigate into the root directory, use `cd /`\n",
        "      * To navigate to your home directory, use `cd` or `cd ~`\n",
        "      * To navigate up one directory level, use `cd ..`\n",
        "      * To navigate to the previous directory (or back), use `cd -`\n",
        "      * To navigate through multiple levels of directory at once, specify the full directory path that you want to go to. For example, use, `cd /var/log` to go directly to the `/log` subdirectory of `/var/`.\n",
        "*    `cp`: The `cp` command will make a copy of a file for you. Example: `cp file foo` will make an exact copy of ”file” and name it ”foo”, but the file ”file” will still be there. If you are copying a directory, you must use `cp -r directory foo` (copy recursively). (To understand what ”recursively” means, think of it this way: to copy the directory and all its files and subdirectories and all their files and subdirectories of the subdirectories and all their files, and on and on, ”recursively”).\n",
        "*    `mv`: The `mv` command will move a file to a different location or will rename a file. Examples are as follows: `mv file foo` will rename the file ”file” to ”foo”. `mv foo ~/Desktop` will move the file ”foo” to your Desktop directory, but it will not rename it. You must specify a new file name to rename a file.\n",
        "*    `rm`: Use this command to remove or delete a file in your directory.\n",
        "*    `rmdir`: The `rmdir` command will delete an empty directory. To delete a directory and all of its contents recursively, use `rm -r` instead.\n",
        "*    `mkdir`: The `mkdir` command will allow you to create directories. Example: `mkdir music` will create a directory called ”music”."
      ]
    },
    {
      "cell_type": "markdown",
      "metadata": {
        "id": "q91j3em4yseg"
      },
      "source": [
        "Let us create a directory for our tutorial work today."
      ]
    },
    {
      "cell_type": "code",
      "execution_count": null,
      "metadata": {
        "colab": {
          "base_uri": "https://localhost:8080/"
        },
        "id": "Otpuw_QMyx0O",
        "outputId": "940725de-ca48-4b26-fa1c-dcad967e06f3"
      },
      "outputs": [
        {
          "output_type": "stream",
          "name": "stdout",
          "text": [
            "/content\n"
          ]
        }
      ],
      "source": [
        "%cd /content"
      ]
    },
    {
      "cell_type": "code",
      "execution_count": null,
      "metadata": {
        "id": "K4nJr0iSy8Oc"
      },
      "outputs": [],
      "source": [
        "!mkdir -p COMP47470/Week1"
      ]
    },
    {
      "cell_type": "code",
      "execution_count": null,
      "metadata": {
        "colab": {
          "base_uri": "https://localhost:8080/"
        },
        "id": "RQJ_PvqzzDZk",
        "outputId": "981bb14d-0dd8-465a-d89b-b720bbc3dcbe"
      },
      "outputs": [
        {
          "output_type": "stream",
          "name": "stdout",
          "text": [
            "COMP47470  drive  sample_data\n"
          ]
        }
      ],
      "source": [
        "!ls"
      ]
    },
    {
      "cell_type": "code",
      "execution_count": null,
      "metadata": {
        "colab": {
          "base_uri": "https://localhost:8080/"
        },
        "id": "bIPxqlpSzFbA",
        "outputId": "6780ac1d-ea23-47ea-bf60-e35b1d73f550"
      },
      "outputs": [
        {
          "output_type": "stream",
          "name": "stdout",
          "text": [
            "/content/COMP47470/Week1\n"
          ]
        }
      ],
      "source": [
        "%cd COMP47470/Week1"
      ]
    },
    {
      "cell_type": "markdown",
      "metadata": {
        "id": "TKdQaaSczJxO"
      },
      "source": [
        "Download the `unirank.csv` file using `!wget csserver.ucd.ie/~rholmes/unirank.csv`"
      ]
    },
    {
      "cell_type": "code",
      "execution_count": null,
      "metadata": {
        "colab": {
          "base_uri": "https://localhost:8080/"
        },
        "id": "4nPlEilfzV-l",
        "outputId": "2e06fb9f-86c8-4375-a431-2f22e011ea13"
      },
      "outputs": [
        {
          "output_type": "stream",
          "name": "stdout",
          "text": [
            "--2025-09-15 20:00:19--  http://csserver.ucd.ie/~rholmes/unirank.csv\n",
            "Resolving csserver.ucd.ie (csserver.ucd.ie)... 193.1.133.60\n",
            "Connecting to csserver.ucd.ie (csserver.ucd.ie)|193.1.133.60|:80... connected.\n",
            "HTTP request sent, awaiting response... 301 Moved Permanently\n",
            "Location: https://csserver.ucd.ie/~rholmes/unirank.csv [following]\n",
            "--2025-09-15 20:00:20--  https://csserver.ucd.ie/~rholmes/unirank.csv\n",
            "Connecting to csserver.ucd.ie (csserver.ucd.ie)|193.1.133.60|:443... connected.\n",
            "HTTP request sent, awaiting response... 200 OK\n",
            "Length: 13062 (13K) [text/csv]\n",
            "Saving to: ‘unirank.csv’\n",
            "\n",
            "unirank.csv         100%[===================>]  12.76K  --.-KB/s    in 0.04s   \n",
            "\n",
            "2025-09-15 20:00:20 (341 KB/s) - ‘unirank.csv’ saved [13062/13062]\n",
            "\n"
          ]
        }
      ],
      "source": [
        "!wget csserver.ucd.ie/~rholmes/unirank.csv"
      ]
    },
    {
      "cell_type": "code",
      "execution_count": null,
      "metadata": {
        "colab": {
          "base_uri": "https://localhost:8080/"
        },
        "id": "FR1TaSJdzjmr",
        "outputId": "81dfb19e-f4b0-46c8-c010-60e4419f3ba5"
      },
      "outputs": [
        {
          "output_type": "stream",
          "name": "stdout",
          "text": [
            "unirank.csv\n"
          ]
        }
      ],
      "source": [
        "!ls"
      ]
    },
    {
      "cell_type": "markdown",
      "metadata": {
        "id": "XtiZFlK8Tqkf"
      },
      "source": [
        "## 3. Examining Files:\n",
        "\n",
        "`cat` stands for conCATenate. You can use this command to dump an entire text file to the screen."
      ]
    },
    {
      "cell_type": "code",
      "execution_count": null,
      "metadata": {
        "id": "UmBPhrR_TkHN"
      },
      "outputs": [],
      "source": [
        "!cat unirank.csv"
      ]
    },
    {
      "cell_type": "markdown",
      "metadata": {
        "id": "yj5t5GxoUEMI"
      },
      "source": [
        "If the text file is too long, you might find that it scrolls past too quickly and you cannot see the beginning of the file anymore. In which case, you can use either the ”more” or ”less” command. For example:\n",
        "\n",
        "`more COMP47470/unirank.csv`\n",
        "\n",
        "`less COMP47470/unirank.csv`\n",
        "\n",
        "Both these commands perform similar functions as they allow to see the text file one page at a time. You use the spacebar to continue paging, `enter` key will move down one line, and `q` to quit.\n",
        "\n",
        "`less` has actually more features than `more`! The most useful feature is that it can scroll backwards (or up) whereas `more` cannot. Press `h` (while in the program) to see more options. Another interesting option is the search option, which is similar to the one you’ve seen when we presented `man`. If you are looking for a specific string in a text file use the syntax /string - and then hit the key `n` to move to the next occurrence."
      ]
    },
    {
      "cell_type": "markdown",
      "metadata": {
        "id": "3-bQJSwdUKTL"
      },
      "source": [
        "## 4. Showing part of a file:\n",
        "`head` and `tail` are two opposite commands, showing the beginning or the end of a file respectively. Try the following commands - what do they give you?\n",
        "\n",
        "`head COMP47470/unirank.csv`\n",
        "\n",
        "`tail COMP47470/unirank.csv`\n",
        "\n",
        "Both of them have various options that can be powerful - and a little complicated!\n",
        "\n",
        "`head -n 3 COMP47470/unirank.csv` # Shows the first 3 lines\n",
        "\n",
        "`tail -n 5 COMP47470/unirank.csv` # Shows the last 5 lines\n",
        "\n",
        "`tail -n +20 COMP47470/unirank.csv` # Shows from the 20th line to the end"
      ]
    },
    {
      "cell_type": "raw",
      "metadata": {
        "id": "QtXq06DEUy1Q"
      },
      "source": [
        "A classic use of `tail` consists in showing the content of a dynamic file, that is evolving over time such as system log files etc. The **-f** option to tail allows you to do this.\n",
        "\n",
        "#### Exercise 1:\n",
        "\n",
        "1. Combine `head` and `tail` using a pipe (`|`) to print the 10th line to the 15th line in `COMP47470/unirank.csv`."
      ]
    },
    {
      "cell_type": "code",
      "execution_count": null,
      "metadata": {
        "id": "BgDmV0PC0ROc",
        "colab": {
          "base_uri": "https://localhost:8080/"
        },
        "outputId": "93d89b82-2ad9-4af9-fe21-2b0a033155f0"
      },
      "outputs": [
        {
          "output_type": "stream",
          "name": "stdout",
          "text": [
            "Johns Hopkins University,Baltimore, MD,50410,6524,10\r\n",
            "Dartmouth College,Hanover, NH,51438,4307,11\r\n",
            "California Institute of Technology,Pasadena, CA,47577,1001,12\r\n",
            "Northwestern University,Evanston, IL,50855,8314,12\r\n",
            "Brown University,Providence, RI,51367,6652,14\r\n"
          ]
        }
      ],
      "source": [
        "!head -n 15 unirank.csv | tail -n 5"
      ]
    },
    {
      "cell_type": "markdown",
      "metadata": {
        "id": "Q8GWlv7dU8Mo"
      },
      "source": [
        "2. Combine `head` and `tail` using a pipe (`|`) to print the 7th line in `COMP47470/unirank.csv`."
      ]
    },
    {
      "cell_type": "code",
      "execution_count": null,
      "metadata": {
        "id": "cEy-_OnX0ZXi",
        "colab": {
          "base_uri": "https://localhost:8080/"
        },
        "outputId": "33c330ed-c73e-45d0-a4a4-7de9cc6b72a8"
      },
      "outputs": [
        {
          "output_type": "stream",
          "name": "stdout",
          "text": [
            "Stanford University,Stanford, CA,47940,6999,5\r\n"
          ]
        }
      ],
      "source": [
        "!head -n 7 unirank.csv | tail -n 1"
      ]
    },
    {
      "cell_type": "markdown",
      "metadata": {
        "id": "cDixcPM6VA9P"
      },
      "source": [
        "## 5. Echo and Special Characters:\n",
        "\n",
        "In this section we will demostrate how special characters can impact the execution of commands - and how they can be disabled conveniently!"
      ]
    },
    {
      "cell_type": "code",
      "execution_count": null,
      "metadata": {
        "colab": {
          "base_uri": "https://localhost:8080/"
        },
        "id": "V6oZtrXKU2VE",
        "outputId": "4746bcd7-cbc6-43ed-eb0d-f5449f44b10d"
      },
      "outputs": [
        {
          "output_type": "stream",
          "name": "stdout",
          "text": [
            "Hello\n",
            "Hello everybody\n",
            "Hello to the 2 of you!\n",
            "# is a very useful character in bash\n",
            "# is more useful than \\ in bash\n",
            "# is less useful than * in bash\n",
            "The $PATH variable is very important.\n",
            "# is less useful than * in bash\n",
            "The $PATH variable is very important.\n"
          ]
        }
      ],
      "source": [
        "# We can print or \"echo\" a simple word:\n",
        "!echo Hello\n",
        "\n",
        "# Or several words:\n",
        "!echo Hello everybody\n",
        "\n",
        "# We can also print nonalphabetical characters on screen\n",
        "# (As long as they don't belong to the previously mentioned\n",
        "# list of special characters)\n",
        "!echo Hello to the 2 of you!\n",
        "\n",
        "# If we want to disable a special character like # we would\n",
        "# place a backslash before it like so:\n",
        "!echo \\# is a very useful character in bash\n",
        "\n",
        "# We can even disable the \\ character itself with another \\\n",
        "!echo \\# is more useful than \\\\ in bash\n",
        "\n",
        "# If we want to disable a lot of special characters we can use\n",
        "# single quotes to disable all of them:\n",
        "!echo '# is less useful than * in bash'\n",
        "!echo 'The $PATH variable is very important.'\n",
        "\n",
        "# Or double quotes which will disable all special characters\n",
        "# except $, ` and \\\n",
        "!echo \"# is less useful than * in bash\"\n",
        "!echo \"The \\$PATH variable is very important.\""
      ]
    },
    {
      "cell_type": "markdown",
      "metadata": {
        "id": "SFWpnvc2Vqir"
      },
      "source": [
        "Escaping is important. Here's the same sentence without the \\ before the $ character:"
      ]
    },
    {
      "cell_type": "code",
      "execution_count": null,
      "metadata": {
        "colab": {
          "base_uri": "https://localhost:8080/"
        },
        "id": "HQWSywTsU_c3",
        "outputId": "bd5205c2-7199-4035-fb9f-414de8f4d55b"
      },
      "outputs": [
        {
          "output_type": "stream",
          "name": "stdout",
          "text": [
            "The /opt/bin:/usr/local/nvidia/bin:/usr/local/cuda/bin:/usr/local/sbin:/usr/local/bin:/usr/sbin:/usr/bin:/sbin:/bin:/tools/node/bin:/tools/google-cloud-sdk/bin variable is very important.\n"
          ]
        }
      ],
      "source": [
        "!echo \"The $PATH variable is very important.\""
      ]
    },
    {
      "cell_type": "markdown",
      "metadata": {
        "id": "-V8gj0fTV3s6"
      },
      "source": [
        "## 6. Selecting Columns:\n",
        "\n",
        "Linux command `cut` is used for text processing. You can use this command to extract portions of text from a file by selecting columns.\n",
        "Option `-cN` extracts only character N of each line from a file. For example:"
      ]
    },
    {
      "cell_type": "code",
      "execution_count": null,
      "metadata": {
        "id": "aa1JJ106V9pg"
      },
      "outputs": [],
      "source": [
        "!cut -c2 unirank.csv"
      ]
    },
    {
      "cell_type": "markdown",
      "metadata": {
        "id": "P4_etzgOZece"
      },
      "source": [
        "will extract only the second character of each line. A range of characters can also be extracted from a file by specifying start and end position delimited with -."
      ]
    },
    {
      "cell_type": "code",
      "execution_count": null,
      "metadata": {
        "id": "VJGycy1VZa5k"
      },
      "outputs": [],
      "source": [
        "!cut -c2-5 unirank.csv"
      ]
    },
    {
      "cell_type": "markdown",
      "metadata": {
        "id": "ieMDp1JuZjr7"
      },
      "source": [
        "Either start position or end position can be passed to the cut command with the -c option.\n",
        "\n",
        "The following command specifies only the start position before the ’-’. This example extracts from the 10th character to the end of each line.\n"
      ]
    },
    {
      "cell_type": "code",
      "execution_count": null,
      "metadata": {
        "id": "KGYYkVIYZnz7"
      },
      "outputs": [],
      "source": [
        "!cut -c10- unirank.csv"
      ]
    },
    {
      "cell_type": "markdown",
      "metadata": {
        "id": "tBDXi0VtZruL"
      },
      "source": [
        "The following commad specifies only the end position after the ’-’. This example extracts 10 characters from the beginning of each line."
      ]
    },
    {
      "cell_type": "code",
      "execution_count": null,
      "metadata": {
        "id": "urAykPbiZvid"
      },
      "outputs": [],
      "source": [
        "!cut -c-10 unirank.csv"
      ]
    },
    {
      "cell_type": "markdown",
      "metadata": {
        "id": "rFm_ONwxZ2lY"
      },
      "source": [
        "Instead of selecting **x** number of characters, if you like to extract a whole field, you can combine options **-f** and **-d**. Option **-f** specifies which field you want to extract, and option **-d** specifies the field delimiter that is used in the input file.\n",
        "\n",
        "The following example displays only the first field of each line from the **unirank.csv** file using the field delimiter, (comma). In this case, the 1st field is the name of the university."
      ]
    },
    {
      "cell_type": "code",
      "execution_count": null,
      "metadata": {
        "id": "2tzN-uuvZ6Vn"
      },
      "outputs": [],
      "source": [
        "!cut -d\",\" -f1 unirank.csv"
      ]
    },
    {
      "cell_type": "markdown",
      "metadata": {
        "id": "s0ZZUfvrZ-FK"
      },
      "source": [
        "You can also extract more than one field from a file. The example below displays the University name and state."
      ]
    },
    {
      "cell_type": "code",
      "execution_count": null,
      "metadata": {
        "id": "oNmX3PkLaCdV"
      },
      "outputs": [],
      "source": [
        "!cut -d\",\" -f1,3 unirank.csv"
      ]
    },
    {
      "cell_type": "markdown",
      "metadata": {
        "id": "8HFKpoeKaEzR"
      },
      "source": [
        "To display a range of fields specify start field and end field as shown below. In this example, we are selecting fields 1 through 3 as well as 5 and 6."
      ]
    },
    {
      "cell_type": "code",
      "execution_count": null,
      "metadata": {
        "id": "JO8vszY6aHgq"
      },
      "outputs": [],
      "source": [
        "!cut -d\",\" -f1-3,5,6 unirank.csv"
      ]
    },
    {
      "cell_type": "markdown",
      "metadata": {
        "id": "hzbvj915aWyV"
      },
      "source": [
        "## 7. Sorting:\n",
        "\n",
        "The sort command rearranges the lines in a text file so that they are sorted lexicographically."
      ]
    },
    {
      "cell_type": "code",
      "execution_count": null,
      "metadata": {
        "id": "GfwrDuDcaLDu"
      },
      "outputs": [],
      "source": [
        "!sort unirank.csv"
      ]
    },
    {
      "cell_type": "markdown",
      "metadata": {
        "id": "OSUOONc1afbB"
      },
      "source": [
        "These are the default sorting rules:\n",
        "* a number is before a letter.\n",
        "* letters follow their order in the alphabet.\n",
        "* a lowercase letter is before a same uppercase letter.\n",
        "\n",
        "You can change the default sorting rules by providing a suitable parameter. For example:\n",
        "\n",
        "* Reverse sort: `sort -r unirank.csv`\n",
        "* Ignore case: `sort -f unirank.csv`\n",
        "\n",
        "You can also concatenate and sort several files at once:\n",
        "`sort /file/one /file/two`\n",
        "\n",
        "You can also save the result of the sort in a another file:\n",
        "\n",
        "`sort unirank.csv -o result.txt`\n",
        "\n",
        "or\n",
        "\n",
        "`sort unirank.csv > result.txt`\n",
        "\n",
        "or\n",
        "\n",
        "`sort unirank.csv >> result.txt`\n",
        "\n",
        "The **-o** option is not available for all commands. Using **>** and **>>** works for any command. **>** will overwrite *result.txt* if it already exists while **>>** will append the output to *result.txt* if it already exists. Both create the file if it does not exist.\n",
        "\n",
        "## 8. Duplicates:\n",
        "\n",
        "This command filters duplicate adjacent lines:\n",
        "\n",
        "`uniq unirank.csv`\n",
        "\n",
        "It can filter them by ignoring the case:\n",
        "\n",
        "`uniq -i unirank.csv`\n",
        "\n",
        "You can report the duplicate lines by:\n",
        "\n",
        "`uniq -d unirank.csv`\n",
        "\n",
        "You can aso print the number of occurrences of each line:\n",
        "\n",
        "`uniq -c unirank.csv`\n",
        "\n",
        "## 9. tee: copy input to two places\n",
        "\n",
        "The tee command sends its standard input both to standard out and to a file that you specify on the command line. You can think of this command as equivalent to a tee fixture in plumbing. It splits the linear command pipeline into two.\n",
        "\n",
        "The device /dev/tty is a synonym for the current terminal. For example, the following command prints both the pathnames of files with .csv extension and a count of the number of csv files that were found. Here, tee sends the output to /dev/tty and to the command wc.\n",
        "\n",
        "\n"
      ]
    },
    {
      "cell_type": "code",
      "execution_count": null,
      "metadata": {
        "id": "Pa10mTc_B1se",
        "colab": {
          "base_uri": "https://localhost:8080/"
        },
        "outputId": "9aaeb46e-216f-41cd-8191-d3050ad6aa91"
      },
      "outputs": [
        {
          "output_type": "stream",
          "name": "stdout",
          "text": [
            "tee: /dev/tty: No such device or address\n",
            "1\n"
          ]
        }
      ],
      "source": [
        "!find . -name \"*.csv\" | tee /dev/tty | wc -l"
      ]
    },
    {
      "cell_type": "markdown",
      "metadata": {
        "id": "BcJb4wLvB3tc"
      },
      "source": [
        "## 10. Grep:\n",
        "\n",
        "Grep prints out the lines containing a certain string. For example, the following will return all lines that contain the Kentucky state code (KY):"
      ]
    },
    {
      "cell_type": "code",
      "execution_count": null,
      "metadata": {
        "colab": {
          "base_uri": "https://localhost:8080/"
        },
        "id": "5gg8TlvtakQk",
        "outputId": "0e8fa77e-923e-4c61-dd1f-98e75c0f89d3"
      },
      "outputs": [
        {
          "output_type": "stream",
          "name": "stdout",
          "text": [
            "University of Kentucky,Lexington, KY,26334,22705,133\r\n",
            "University of Louisville,Louisville, KY,24626,15769,171\r\n"
          ]
        }
      ],
      "source": [
        "!grep KY unirank.csv"
      ]
    },
    {
      "cell_type": "markdown",
      "metadata": {
        "id": "AWakwPEVanaS"
      },
      "source": [
        "Options:\n",
        "* `-c`: Only gives the number of matching lines.\n",
        "* `-v`: Shows only the lines that do not match the pattern (inverted search).\n",
        "* `-i`: Ignore case.\n",
        "* `-n`: Gives the line number as well as the matching lines.\n",
        "\n",
        "\n",
        "### Exercise 2:\n",
        "\n",
        "1. What is the output of the commands:\n",
        "    * `echo {0..9}`\n",
        "    * `echo 1.{0..9}`\n",
        "    * `echo {A..C}{0..2}`"
      ]
    },
    {
      "cell_type": "code",
      "execution_count": null,
      "metadata": {
        "id": "n3nfEb45au3J"
      },
      "outputs": [],
      "source": [
        "!echo {0..9}\n",
        "!echo 1.{0..9}\n",
        "!echo {A..C}{0..2}"
      ]
    },
    {
      "cell_type": "markdown",
      "metadata": {
        "id": "JCvxqRxh2s4K"
      },
      "source": [
        "2. Use `sort` to sort the content of unirank.csv."
      ]
    },
    {
      "cell_type": "code",
      "execution_count": null,
      "metadata": {
        "id": "TdxUIbh33eWB"
      },
      "outputs": [],
      "source": [
        "!sort unirank.csv"
      ]
    },
    {
      "cell_type": "markdown",
      "metadata": {
        "id": "muRUb6vs2vjR"
      },
      "source": [
        "3. Use `grep` to find all the lines with 'ville' un unirank.csv. Then redirect this output to a file."
      ]
    },
    {
      "cell_type": "code",
      "execution_count": null,
      "metadata": {
        "id": "i_rAa9wR3kdk"
      },
      "outputs": [],
      "source": [
        "!grep ville unirank.csv > result.txt"
      ]
    },
    {
      "cell_type": "markdown",
      "metadata": {
        "id": "0t1LolM124HG"
      },
      "source": [
        "4. List all of the files in a directory in reverse date order, so that the most recent is at the bottom (`ls`)."
      ]
    },
    {
      "cell_type": "code",
      "execution_count": null,
      "metadata": {
        "id": "xwoO95nE3uSe",
        "colab": {
          "base_uri": "https://localhost:8080/"
        },
        "outputId": "1d033c0c-cbf3-4a0c-c92f-14f29f38a9f8"
      },
      "outputs": [
        {
          "output_type": "stream",
          "name": "stdout",
          "text": [
            "unirank.csv  result.txt\n"
          ]
        }
      ],
      "source": [
        "!ls -r -t"
      ]
    },
    {
      "cell_type": "markdown",
      "metadata": {
        "id": "HOkFQXeg29Dk"
      },
      "source": [
        "5. Find all the ”colleges” in the list (e.g. University *College* Dublin, think `grep` and its options!)"
      ]
    },
    {
      "cell_type": "code",
      "execution_count": null,
      "metadata": {
        "id": "gVRLnrtB3yEg"
      },
      "outputs": [],
      "source": [
        "!cut -d\",\" -f1 unirank.csv"
      ]
    },
    {
      "cell_type": "markdown",
      "metadata": {
        "id": "Wq2chQci4Bzc"
      },
      "source": [
        "6. Find the number of HEIs per state (`cut`, `sort`, `uniq`)?"
      ]
    },
    {
      "cell_type": "code",
      "execution_count": null,
      "metadata": {
        "id": "oy0_T-gj4Abz"
      },
      "outputs": [],
      "source": [
        "!cut -d\",\" -f3 unirank.csv | tail -n +2 | sort | uniq -c > HEI_Per_State.txt"
      ]
    },
    {
      "cell_type": "markdown",
      "metadata": {
        "id": "Aagke5X04t_p"
      },
      "source": [
        "7. Which state has the most HEI institutes in the dataset?"
      ]
    },
    {
      "cell_type": "code",
      "execution_count": null,
      "metadata": {
        "id": "tQtWfkNR3c-4",
        "colab": {
          "base_uri": "https://localhost:8080/"
        },
        "outputId": "55ec266e-21d4-4d89-ec07-1e44d7ae66a9"
      },
      "outputs": [
        {
          "output_type": "stream",
          "name": "stdout",
          "text": [
            "     22  CA\n"
          ]
        }
      ],
      "source": [
        "!sort -n -r HEI_Per_State.txt | head -n 1"
      ]
    },
    {
      "cell_type": "markdown",
      "metadata": {
        "id": "ZrnwARCW46kp"
      },
      "source": [
        "## 11. Bash Scripts:\n",
        "\n",
        "Now we'll play with some basic Bash scripts. To write these scripts via the terminal we would usually need a text editor such as `nano` or `vi`. However, as we're using a notebook, we can simple create a new file and run it using the command: `!bash path/to/file`.\n",
        "\n",
        "You can create new files by right clicking on the top most icon when in the files view of the lefthand menu. Remember to move any new files you create to your drive in order to save them! Bash scripts (by convention) have a `.sh` extension e.g. the example `hello.sh` provided to you.\n",
        "\n",
        "Alternatively, on the left-hand menu, click the file directory button. Go to directory, COMP47470/Week1. Then upload the files `hello.sh` and `hello2.sh` that are provided to you. Move them to the proper directory.\n",
        "\n",
        "You will need to make sure the first line of any scripts you write is `#!/bin/bash`. `#!` is called the shebang and is followed directly by the path to the executable used to interpret the script (bash in this case).\n"
      ]
    },
    {
      "cell_type": "code",
      "execution_count": null,
      "metadata": {
        "colab": {
          "base_uri": "https://localhost:8080/"
        },
        "id": "z2K4g8Kx7LMt",
        "outputId": "3c01b23f-2ac5-475a-a9fa-c66395ec57fa"
      },
      "outputs": [
        {
          "output_type": "stream",
          "name": "stdout",
          "text": [
            "sample_data\n"
          ]
        }
      ],
      "source": [
        "!ls"
      ]
    },
    {
      "cell_type": "code",
      "execution_count": null,
      "metadata": {
        "colab": {
          "base_uri": "https://localhost:8080/"
        },
        "id": "syIRm87z7I3y",
        "outputId": "0c649a2a-4bce-452f-d8c0-a7c2cc24eeaf"
      },
      "outputs": [
        {
          "output_type": "stream",
          "name": "stdout",
          "text": [
            "cat: hello.sh: No such file or directory\n"
          ]
        }
      ],
      "source": [
        "!cat hello.sh"
      ]
    },
    {
      "cell_type": "markdown",
      "metadata": {
        "id": "0v_7AeiJ7C3F"
      },
      "source": [
        "\n",
        "If you take a look at the `hello.sh` script you'll notice that it contains just one other line: `echo \"Hello $1\"`. This `$1` is what is known as a positional parameter. This is something we will pass as an argument to the script. For example:"
      ]
    },
    {
      "cell_type": "code",
      "execution_count": null,
      "metadata": {
        "colab": {
          "base_uri": "https://localhost:8080/"
        },
        "id": "LIFwB8i55dVI",
        "outputId": "fbcb8720-7cc8-4d47-b87c-221b986ec7ab"
      },
      "outputs": [
        {
          "name": "stdout",
          "output_type": "stream",
          "text": [
            "Hello COMP47470!\n"
          ]
        }
      ],
      "source": [
        "!bash hello.sh \"COMP47470!\""
      ]
    },
    {
      "cell_type": "markdown",
      "metadata": {
        "id": "dbmfB7G17bHT"
      },
      "source": [
        "`$@` is a special parameter that expands to all positional parameters starting from `$1` (i.e. a list of arguments provided to the script).\n",
        "\n",
        "Take a look at the `hello2.sh` script. Using a for loop and `$@`, our script can now say hello to each of the demonstrators whose names we pass as arguments."
      ]
    },
    {
      "cell_type": "code",
      "execution_count": null,
      "metadata": {
        "id": "G21KeP2B7aOx"
      },
      "outputs": [],
      "source": [
        "!bash hello2.sh And Welcome to COMP47470 Big Data Programming Module!"
      ]
    },
    {
      "cell_type": "markdown",
      "metadata": {
        "id": "NmdsUgKn7xgB"
      },
      "source": [
        "## 12. Snapshot of Social Network (facebook.csv):\n",
        "\n",
        "One of the first tasks that data scientists do when they receive a new dataset is to check the data: reading its content, understanding its format, etc.\n",
        "\n",
        "For this next task we'll use the facebookdata.csv. This can be dowloaded using the command `!wget csserver.ucd.ie/~thomas/facebookdata.csv`.\n",
        "\n",
        "The csv file is provided to you if you have issues downloading it."
      ]
    },
    {
      "cell_type": "code",
      "execution_count": 1,
      "metadata": {
        "colab": {
          "base_uri": "https://localhost:8080/",
          "height": 0
        },
        "id": "Q6ze1UDf74Ie",
        "outputId": "1d1652e8-a436-4d88-93c0-a8d6af378b1d"
      },
      "outputs": [
        {
          "output_type": "stream",
          "name": "stdout",
          "text": [
            "--2025-09-30 13:43:37--  http://csserver.ucd.ie/~thomas/facebookdata.csv\n",
            "Resolving csserver.ucd.ie (csserver.ucd.ie)... 193.1.133.60\n",
            "Connecting to csserver.ucd.ie (csserver.ucd.ie)|193.1.133.60|:80... connected.\n",
            "HTTP request sent, awaiting response... 301 Moved Permanently\n",
            "Location: https://csserver.ucd.ie/~thomas/facebookdata.csv [following]\n",
            "--2025-09-30 13:43:37--  https://csserver.ucd.ie/~thomas/facebookdata.csv\n",
            "Connecting to csserver.ucd.ie (csserver.ucd.ie)|193.1.133.60|:443... connected.\n",
            "HTTP request sent, awaiting response... 200 OK\n",
            "Length: 808806 (790K) [text/csv]\n",
            "Saving to: ‘facebookdata.csv’\n",
            "\n",
            "facebookdata.csv    100%[===================>] 789.85K  --.-KB/s    in 0.1s    \n",
            "\n",
            "2025-09-30 13:43:37 (8.06 MB/s) - ‘facebookdata.csv’ saved [808806/808806]\n",
            "\n"
          ]
        }
      ],
      "source": [
        "!wget csserver.ucd.ie/~thomas/facebookdata.csv"
      ]
    },
    {
      "cell_type": "markdown",
      "metadata": {
        "id": "Upwg_CTy75Mb"
      },
      "source": [
        "\n",
        "1. Read the first 10 lines of the file. What are the different fields?"
      ]
    },
    {
      "cell_type": "code",
      "execution_count": 3,
      "metadata": {
        "id": "jkKxuOtF72JT",
        "colab": {
          "base_uri": "https://localhost:8080/",
          "height": 0
        },
        "outputId": "b02d71ae-3348-49bd-d69a-a35357a4b7bd"
      },
      "outputs": [
        {
          "output_type": "stream",
          "name": "stdout",
          "text": [
            "status_id,status_message,link_name,status_type,\"status,_link\",status_published,num_reactions,num_comments,num_shares,num_likes,num_loves,num_wows,num_hahas,num_sads,num_angrys\n",
            "7331091005_10154123560186006,\"Ben Simmons will likely be the No. 1 pick of the NBA Draft, but who should it be?\",\"Ben Simmons will likely be the No. 1 pick of the NBA Draft, bu...\",video,https://www.facebook.com/bleacherreport/videos/10154123560186006/,2016-06-22 17:33:39,5565,178,461,5488,43,13,19,0,2\n",
            "7331091005_10154123362896006,\"How to coach the \"\"Triangle Offense,\"\" as explained by Metta World Peace. (via QBronald/Twitter)\",\"How to coach the \"\"Triangle Offense,\"\" as explained by Metta Wor...\",video,https://www.facebook.com/bleacherreport/videos/10154123362896006/,2016-06-22 16:20:56,11997,1932,3158,10385,96,15,1499,0,2\n",
            "7331091005_10154123319126006,\"The new team, reportedly called the Black Knights, will be starting in 2017-18.\",NHL Announces Las Vegas Will Officially Get Expansion Team,link,http://ble.ac/28NrXU5,2016-06-22 15:51:31,2063,270,400,1971,28,47,10,0,7\n",
            "7331091005_10154123234521006,\"Derrick Rose has been traded to New York. The Knicks have a Big 3. STORY: http://ble.ac/28Nd0lA\",Timeline Photos,photo,https://www.facebook.com/bleacherreport/photos/a.10150274478951006.330140.7331091005/10154123234521006/?type=3,2016-06-22 15:15:23,116543,11811,43923,107561,1202,4334,2424,628,394\n",
            "7331091005_10154123219076006,The 38-year-old SG will test free agency.,Manu Ginobili Opts out of Spurs Contract,link,http://ble.ac/28S3uBb,2016-06-22 15:04:52,10475,999,2978,8833,28,932,188,473,21\n",
            "7331091005_10154123189346006,\"2016 election motto: \"\"No shirt, no problem\"\" (via florentips/Twitter)\",Timeline Photos,photo,https://www.facebook.com/bleacherreport/photos/a.10150274478951006.330140.7331091005/10154123189346006/?type=3,2016-06-22 14:51:16,32111,897,2525,29660,398,26,2009,3,15\n",
            "7331091005_10154123132896006,\"The NBA Finals are behind us and the draft is tomorrow, so it's time to talk hoops on The Simms & Lefkoe Podcast. Ric Bucher and Howard Beck join Simms and Lefkoe to talk LeBron's legacy, Warriors, Cavs, Draft and plenty more.\",Simms & Lefkoe Podcast Live with Ric Bucher & Howard Beck,video,https://www.facebook.com/bleacherreport/videos/10154123132896006/,2016-06-22 14:29:55,1261,628,90,1173,43,11,8,7,19\n",
            "7331091005_10154123136121006,Earl Joseph Smith III. Legend. (via NBA TV),Earl Joseph Smith III. Legend. (via NBA TV),video,https://www.facebook.com/bleacherreport/videos/10154123136121006/,2016-06-22 14:29:33,9257,283,819,8776,348,8,120,1,4\n",
            "7331091005_10154123102181006,King James on his throne 👑💯👑 #CavsParade (via NBA),Timeline Photos,photo,https://www.facebook.com/bleacherreport/photos/a.10150274478951006.330140.7331091005/10154123102181006/?type=3,2016-06-22 14:15:19,13314,147,917,12771,433,29,23,2,57\n"
          ]
        }
      ],
      "source": [
        "!head facebookdata.csv"
      ]
    },
    {
      "cell_type": "markdown",
      "metadata": {
        "id": "T-dhfsyR8MOK"
      },
      "source": [
        "2. Read the last 10 lines of the file."
      ]
    },
    {
      "cell_type": "code",
      "execution_count": 4,
      "metadata": {
        "id": "eNaSyrzv8KIl",
        "colab": {
          "base_uri": "https://localhost:8080/",
          "height": 0
        },
        "outputId": "e0e581be-fce0-4c27-d558-04fddfa7a999"
      },
      "outputs": [
        {
          "output_type": "stream",
          "name": "stdout",
          "text": [
            "7331091005_10153833038526006,\"\"\"That behavior will not be tolerated as we move forward.\"\"\",Browns Head Coach Hue Jackson Comments on Johnny Manziel,link,http://ble.ac/20VnzGV,2016-02-24 13:17:04,2006,77,39,1737,17,23,132,69,28\n",
            "7331091005_10153832973191006,This is actually happening.,San Jose Sharks to Honor Brent Burns' Hair and Beard with 'Chia Pet' Giveaway,link,http://ble.ac/20VjPFl,2016-02-24 12:29:21,1090,86,97,1004,19,8,52,1,6\n",
            "7331091005_10153832924036006,\"\"\"I've always wanted to be Samus.\"\" - Ronda Rousey\",Ronda Rousey Reveals She'd Love to Star in a 'Metroid' Movie,link,http://ble.ac/1S1kFjj,2016-02-24 11:54:59,5269,427,277,4818,165,46,55,11,174\n",
            "7331091005_10153832880656006,Baalke expects Kaepernick to be on team's roster on April 1.,49ers General Manager Trent Baalke Comments on Colin Kaepernick,link,http://ble.ac/1QaLrAx,2016-02-24 11:26:08,395,14,19,375,4,3,7,2,4\n",
            "7331091005_10153832871926006,Jeffrey could be staying in Chicago long term.,Alshon Jeffery Reportedly to Be Franchise-Tagged If WR Doesn't Sign New Contract,link,http://ble.ac/1S1fSP3,2016-02-24 11:18:33,1994,54,111,1849,28,39,15,11,52\n",
            "7331091005_10153832800976006,Tiger is back at it.,Tiger Woods Takes Practice Swings on a Simulator,link,http://ble.ac/1S1a9Zn,2016-02-24 10:36:31,779,24,24,727,15,26,6,0,5\n",
            "7331091005_10153832744326006,Check out the latest whip.,\"Yoenis Cespedes Continues Spring Training Car Show, Drives Lamborghini to Camp\",link,http://ble.ac/1S16yuA,2016-02-24 10:06:08,3466,150,204,3301,31,94,27,2,11\n",
            "7331091005_10153832670381006,Surprise.,Odell Beckham Jr. Surprises Fans Using Verizon's 'Better Reality' Technology,link,http://ble.ac/1S0ZPAS,2016-02-24 09:15:56,4435,126,360,4179,37,69,106,7,37\n",
            "7331091005_10153832139336006,Literally changing the game.,\"Steph Curry is so Good, NBA 2K' Developers Can't Figure Out How to Properly Virtualize Him\",link,http://ble.ac/1LFqNal,2016-02-24 00:55:59,32193,2080,5617,31216,158,392,358,6,63\n",
            "7331091005_10153832088846006,\"Damn, Damian. Five straight games with 30+ points!\",\"Damn, Damian. Five straight games with 30+ points!\",video,https://www.facebook.com/bleacherreport/videos/10153832088846006/,2016-02-24 00:23:36,11936,1412,3008,11680,51,13,181,1,10\n"
          ]
        }
      ],
      "source": [
        "!tail -n 10 facebookdata.csv"
      ]
    },
    {
      "cell_type": "markdown",
      "metadata": {
        "id": "NjQUJRau8WEx"
      },
      "source": [
        "3. Print line 1515 using tail, head, and a pipe (`|`)."
      ]
    },
    {
      "cell_type": "code",
      "execution_count": 5,
      "metadata": {
        "id": "JdtmF3_l8a6i",
        "colab": {
          "base_uri": "https://localhost:8080/",
          "height": 0
        },
        "outputId": "9986cc52-032c-4d8e-d4f7-424018b138c6"
      },
      "outputs": [
        {
          "output_type": "stream",
          "name": "stdout",
          "text": [
            "7331091005_10153983215131006,\"The Golden State Warriors may have won a lot of games this season, but the Internet handed them an 'L' after this photoshoot  STORY: http://ble.ac/26g5icS\",Timeline Photos,photo,https://www.facebook.com/bleacherreport/photos/a.10150274478951006.330140.7331091005/10153983215131006/?type=3,2016-04-20 23:45:42,12742,693,505,11876,144,18,695,4,5\n"
          ]
        }
      ],
      "source": [
        "!head -n 1515 facebookdata.csv | tail -n 1"
      ]
    },
    {
      "cell_type": "markdown",
      "metadata": {
        "id": "whZsx7ie8d9Y"
      },
      "source": [
        "4. Count the number of characters in the first 50 lines."
      ]
    },
    {
      "cell_type": "code",
      "execution_count": 8,
      "metadata": {
        "id": "k_t-rUNh8jdT",
        "colab": {
          "base_uri": "https://localhost:8080/",
          "height": 0
        },
        "outputId": "e3192699-067f-47ad-ee1f-85af886e0293"
      },
      "outputs": [
        {
          "output_type": "stream",
          "name": "stdout",
          "text": [
            "12722\n"
          ]
        }
      ],
      "source": [
        "!head -n 50 facebookdata.csv | wc -m"
      ]
    },
    {
      "cell_type": "markdown",
      "metadata": {
        "id": "rp5kNxoQ8mDZ"
      },
      "source": [
        "5. Try to print only columns 4 and 6. you should realise there is something wrong with the file. What is the problem?"
      ]
    },
    {
      "cell_type": "code",
      "execution_count": 9,
      "metadata": {
        "id": "7g13NUcG8q7y",
        "colab": {
          "base_uri": "https://localhost:8080/",
          "height": 0
        },
        "outputId": "bd158c2b-6b3a-4a28-c877-33c9b4795eea"
      },
      "outputs": [
        {
          "output_type": "stream",
          "name": "stdout",
          "text": [
            "cut: invalid field value ‘f6’\n",
            "Try 'cut --help' for more information.\n"
          ]
        }
      ],
      "source": [
        "!cut -d\",\" -f4,f6 facebookdata.csv"
      ]
    },
    {
      "cell_type": "markdown",
      "metadata": {
        "id": "D43Arh5L8yor"
      },
      "source": [
        "We will clean the file *facebookdata.csv* using the utility `sed`. **sed** (\"stream editor\") is a Unix utility that parses and transforms text.\n",
        "\n",
        "Please see the bash script provided to you, fix.sh. It . More information on the data preprocessing activity is given in the file, \"Additional Context - Grep, Sed, CSVs and Commas.pdf\".\n",
        "\n",
        "The bash script \"fix.sh\" contains a complex regular expression to clean the file. There is no need to understand this expression since mastering regular expressions is not the goal of this module."
      ]
    },
    {
      "cell_type": "markdown",
      "metadata": {
        "id": "R9mlmUUI9AY3"
      },
      "source": [
        "6. Upload and execute the file fix.sh.\n",
        "Now print only columns 4 and 6 in your amended file."
      ]
    },
    {
      "cell_type": "code",
      "execution_count": 10,
      "metadata": {
        "id": "T4j1w_9T9Dfd"
      },
      "outputs": [],
      "source": [
        "!bash fix.sh"
      ]
    },
    {
      "cell_type": "markdown",
      "metadata": {
        "id": "KF9exGT49G2-"
      },
      "source": [
        "7. Now write commands and scripts to answer the following questions about the dataset:\n",
        "\n",
        "    a. How many statuses of each type are there?"
      ]
    },
    {
      "cell_type": "code",
      "execution_count": 11,
      "metadata": {
        "id": "EHJlPWt39OL4",
        "colab": {
          "base_uri": "https://localhost:8080/",
          "height": 0
        },
        "outputId": "b361a89b-c244-44a1-dd08-26ec1eeebf8a"
      },
      "outputs": [
        {
          "output_type": "stream",
          "name": "stdout",
          "text": [
            "status_id,status_message,link_name,status_type,\"status;_link\",status_published,num_reactions,num_comments,num_shares,num_likes,num_loves,num_wows,num_hahas,num_sads,num_angrys\n"
          ]
        }
      ],
      "source": [
        "!head -n 1 facebookdata-clean.csv | grep \"status\""
      ]
    },
    {
      "cell_type": "markdown",
      "metadata": {
        "id": "lswn8Tgk9ROo"
      },
      "source": [
        "b. Find the 10 most popular status entries. For that, add all the values you find in columns 8-15. Your script should look something like the following:\n",
        "\n",
        "    #!/bin/bash\n",
        "\n",
        "    #declare 10 variables (initialise them with a 0)\n",
        "\n",
        "    #here you're reading the output of a command line by line\n",
        "    for line in $(command-similar-to-previous-question); do\n",
        "\n",
        "      #get the values (cut) in several variables:\n",
        "      num_comments=???\n",
        "      num_shares=???\n",
        "      num_likes=???\n",
        "      etc.\n",
        "\n",
        "      #add the values\n",
        "      #keep only this sum if it's among the top 10:\n",
        "      #think insertion sort?\n",
        "    done\n",
        "      #print the 10 status entries\n",
        "\n",
        "Arithmetic expansion and evaluation in Bash is done by placing an integer expression using the following format `$((expression))`, e.g., `$(( n1+n2 ))`."
      ]
    },
    {
      "cell_type": "code",
      "execution_count": null,
      "metadata": {
        "id": "l5OqOi-09aVF"
      },
      "outputs": [],
      "source": [
        "# Solve"
      ]
    }
  ],
  "metadata": {
    "colab": {
      "provenance": []
    },
    "kernelspec": {
      "display_name": "Python 3 (ipykernel)",
      "language": "python",
      "name": "python3"
    },
    "language_info": {
      "codemirror_mode": {
        "name": "ipython",
        "version": 3
      },
      "file_extension": ".py",
      "mimetype": "text/x-python",
      "name": "python",
      "nbconvert_exporter": "python",
      "pygments_lexer": "ipython3",
      "version": "3.10.12"
    }
  },
  "nbformat": 4,
  "nbformat_minor": 0
}